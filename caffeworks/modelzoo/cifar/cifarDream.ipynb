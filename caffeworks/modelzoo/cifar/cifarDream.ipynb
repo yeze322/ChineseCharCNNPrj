{
 "cells": [
  {
   "cell_type": "code",
   "execution_count": 8,
   "metadata": {
    "collapsed": true
   },
   "outputs": [],
   "source": [
    "%matplotlib inline\n",
    "import caffe\n",
    "import numpy as np\n",
    "from matplotlib import pyplot as plt\n",
    "caffe.set_mode_gpu()"
   ]
  },
  {
   "cell_type": "code",
   "execution_count": 10,
   "metadata": {
    "collapsed": false
   },
   "outputs": [],
   "source": [
    "CFnet = './net.prototxt'\n",
    "CFweight = './weight.caffemodel.h5'\n",
    "CFmean = './mean.npy'\n",
    "net = caffe.Net(CFnet, CFweight,1)\n",
    "mean = np.load(CFmean)"
   ]
  },
  {
   "cell_type": "code",
   "execution_count": 11,
   "metadata": {
    "collapsed": false
   },
   "outputs": [],
   "source": [
    "target_label = 4\n",
    "current = np.random.rand(3,32,32)*255 - mean[0]\n",
    "act_hist = []\n",
    "rate_obj = 1500\n",
    "rate_smooth = 0.1\n",
    "IT = 1000"
   ]
  },
  {
   "cell_type": "code",
   "execution_count": null,
   "metadata": {
    "collapsed": false
   },
   "outputs": [],
   "source": [
    "plt.rcParams['figure.figsize'] = (20,20)\n",
    "fg = plt.figure()\n",
    "def showCurrent(current, index):\n",
    "    image = (current+mean[0]).transpose(1,2,0)\n",
    "    image = image - image.min()\n",
    "    image = image/image.max()\n",
    "    sb = fg.add_subplot(10,10,index)\n",
    "    sb.imshow(image)\n",
    "    sb.set_title(index)\n",
    "#start to train\n",
    "for i in range(1,IT+1):\n",
    "    # basic backward\n",
    "    net.blobs['data'].data[...] = current\n",
    "    miss = net.forward(end='ip2')['ip2'].flat[target_label]\n",
    "    act_hist.append(miss)\n",
    "    net.blobs['ip2'].diff[...].flat = (np.arange(10)==target_label)-0.5\n",
    "    diff = net.backward(start='ip2')['data']\n",
    "    # regularzation\n",
    "    x_diff = np.zeros_like(current)\n",
    "    y_diff = np.zeros_like(current)\n",
    "    if np.random.rand() > 0.5:\n",
    "        y_diff[:,1:,:] = (current[:,1:,:] - current[:,:-1,:])\n",
    "        x_diff[:,:,1:] = (current[:,:,1:] - current[:,:,:-1])\n",
    "    else:\n",
    "        y_diff[:,:-1,:] = (-current[:,1:,:] + current[:,:-1,:])\n",
    "        x_diff[:,:,:-1] = (-current[:,:,1:] + current[:,:,:-1])\n",
    "    # gradient descent\n",
    "    current = current + rate_obj*diff[0] - rate_smooth*x_diff - rate_smooth*y_diff\n",
    "    # print info\n",
    "    if i%100 == 0:\n",
    "        print 'iteration={}'.format(i)\n",
    "        showCurrent(current, i/100)"
   ]
  },
  {
   "cell_type": "code",
   "execution_count": 6,
   "metadata": {
    "collapsed": false
   },
   "outputs": [
    {
     "data": {
      "text/plain": [
       "[<matplotlib.lines.Line2D at 0x7fd4ecb69d90>]"
      ]
     },
     "execution_count": 6,
     "metadata": {},
     "output_type": "execute_result"
    },
    {
     "data": {
      "image/png": "[encoded data removed]",
      "text/plain": [
       "<matplotlib.figure.Figure at 0x7fd4ed38e450>"
      ]
     },
     "metadata": {},
     "output_type": "display_data"
    }
   ],
   "source": [
    "plt.rcParams['figure.figsize'] = (15,5)\n",
    "plt.plot(act_hist)"
   ]
  },
  {
   "cell_type": "code",
   "execution_count": 86,
   "metadata": {
    "collapsed": false
   },
   "outputs": [
    {
     "data": {
      "text/plain": [
       "[<matplotlib.lines.Line2D at 0x7f77708cb8d0>]"
      ]
     },
     "execution_count": 86,
     "metadata": {},
     "output_type": "execute_result"
    },
    {
     "data": {
      "image/png": "[encoded data removed]",
      "text/plain": [
       "<matplotlib.figure.Figure at 0x7f7770a59ed0>"
      ]
     },
     "metadata": {},
     "output_type": "display_data"
    }
   ],
   "source": [
    "plt.plot(net.forward(end='loss')['loss'].flat)"
   ]
  },
  {
   "cell_type": "code",
   "execution_count": 7,
   "metadata": {
    "collapsed": false
   },
   "outputs": [
    {
     "data": {
      "text/plain": [
       "OrderedDict([('data', <caffe._caffe.Blob at 0x7fd4ec7cd7d0>),\n",
       "             ('conv1', <caffe._caffe.Blob at 0x7fd4ec7cd488>),\n",
       "             ('pool1', <caffe._caffe.Blob at 0x7fd4ec7cd140>),\n",
       "             ('norm1', <caffe._caffe.Blob at 0x7fd4ed4328c0>),\n",
       "             ('conv2', <caffe._caffe.Blob at 0x7fd4ed432848>),\n",
       "             ('pool2', <caffe._caffe.Blob at 0x7fd4ed432320>),\n",
       "             ('norm2', <caffe._caffe.Blob at 0x7fd4ed4322a8>),\n",
       "             ('conv3', <caffe._caffe.Blob at 0x7fd4ec7e80c8>),\n",
       "             ('pool3', <caffe._caffe.Blob at 0x7fd4ec8aeb90>),\n",
       "             ('ip2', <caffe._caffe.Blob at 0x7fd4ed3f2de8>),\n",
       "             ('loss', <caffe._caffe.Blob at 0x7fd4ed3f2f50>)])"
      ]
     },
     "execution_count": 7,
     "metadata": {},
     "output_type": "execute_result"
    }
   ],
   "source": [
    "net.blobs"
   ]
  },
  {
   "cell_type": "code",
   "execution_count": null,
   "metadata": {
    "collapsed": true
   },
   "outputs": [],
   "source": []
  }
 ],
 "metadata": {
  "kernelspec": {
   "display_name": "Python 2",
   "language": "python",
   "name": "python2"
  },
  "language_info": {
   "codemirror_mode": {
    "name": "ipython",
    "version": 2
   },
   "file_extension": ".py",
   "mimetype": "text/x-python",
   "name": "python",
   "nbconvert_exporter": "python",
   "pygments_lexer": "ipython2",
   "version": "2.7.6"
  }
 },
 "nbformat": 4,
 "nbformat_minor": 0
}
