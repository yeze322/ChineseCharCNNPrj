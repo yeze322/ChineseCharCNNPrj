{
 "cells": [
  {
   "cell_type": "code",
   "execution_count": 1,
   "metadata": {
    "collapsed": true
   },
   "outputs": [],
   "source": [
    "%matplotlib inline\n",
    "# You need to have caffe installed with python support, and the BVLC reference models\n",
    "# downloadad.  Please refer to the caffe website/codebase for instructions.\n",
    "import caffe\n",
    "import progressbar\n",
    "import numpy as np\n",
    "from matplotlib import pyplot as plt\n",
    "from matplotlib import image as pmg"
   ]
  },
  {
   "cell_type": "code",
   "execution_count": 2,
   "metadata": {
    "collapsed": false
   },
   "outputs": [],
   "source": [
    "caffe.set_mode_gpu()\n",
    "MNmodel = '../deepmnist/model/mnist3/model.net'\n",
    "MNweight = '../deepmnist/model/mnist3/para_iter_5000.caffemodel'\n",
    "#MNmodel = './mnist_test.prototxt'\n",
    "#MNweight = './dst.caffemodel'\n",
    "# NOTE: you must change deploy.prototxt to include \"force_backward: true\"\n",
    "net = caffe.Net(MNmodel, MNweight, 1)"
   ]
  },
  {
   "cell_type": "code",
   "execution_count": 3,
   "metadata": {
    "collapsed": false
   },
   "outputs": [],
   "source": [
    "def transformCurrent(current, means):\n",
    "    image = (current + means).transpose(1,2,0)[:,:,0]\n",
    "    image = image - image.min()\n",
    "    image = image/image.max()\n",
    "    return image"
   ]
  },
  {
   "cell_type": "code",
   "execution_count": 6,
   "metadata": {
    "collapsed": false
   },
   "outputs": [],
   "source": [
    "def obj_L2(dst):\n",
    "    dst.diff[:] = dst.data\n",
    "\n",
    "def makeStep(net, end, jitter=32,step_size=1.5, helper=obj_L2):\n",
    "    src = net.blobs['data'] # input image is stored in Net's 'data' blob\n",
    "    dst = net.blobs[end]\n",
    "\n",
    "    ox, oy = np.random.randint(-jitter, jitter+1, 2)\n",
    "    src.data[0] = np.roll(np.roll(src.data[0], ox, -1), oy, -2) # apply jitter shift\n",
    "            \n",
    "    #net.forward(end=end)\n",
    "    net.forward()\n",
    "    helper(dst)  # specify the optimization objective\n",
    "    net.backward(start=end)\n",
    "    g = src.diff[0]\n",
    "    # apply normalized ascent step to the input image\n",
    "    src.data[:] += step_size/np.abs(g).mean() * g\n",
    "    src.data[0] = np.roll(np.roll(src.data[0], -ox, -1), -oy, -2) # unshift image\n",
    "    \n",
    "def oneLoop(net, img, IT=10, rate_obj=1000, rate_smooth=0, means=0.3, a=1, b=0.5, layer='ip2'):\n",
    "    current = img - means\n",
    "    net.blobs['data'].data[...] = img\n",
    "    \n",
    "    for i in xrange(IT):\n",
    "        makeStep(net, end=layer)\n",
    "    \n",
    "    plt.imshow(net.blobs['data'].data[0][0], cmap='gray')\n",
    "    plt.show()"
   ]
  },
  {
   "cell_type": "code",
   "execution_count": 7,
   "metadata": {
    "collapsed": false
   },
   "outputs": [
    {
     "data": {
      "image/png": "[encoded data removed]",
      "text/plain": [
       "<matplotlib.figure.Figure at 0x7f08b4fbd850>"
      ]
     },
     "metadata": {},
     "output_type": "display_data"
    }
   ],
   "source": [
    "#img = pmg.imread('pic/0_7.png').reshape((1,28,28))\n",
    "img = np.random.rand(1,28,28)\n",
    "plt.imshow(img[0], cmap='gray')\n",
    "\n",
    "plt.rcParams['figure.figsize'] = (3,3)\n",
    "oneLoop(net=net, img=img, layer='ip2', IT=1000)"
   ]
  },
  {
   "cell_type": "code",
   "execution_count": 8,
   "metadata": {
    "collapsed": false
   },
   "outputs": [
    {
     "data": {
      "text/plain": [
       "{'ip2': array([[ -4.08477617e+04,  -2.06506074e+04,  -1.17284355e+04,\n",
       "           5.43926602e+04,  -1.86791719e+04,   6.90853438e+04,\n",
       "          -7.59835938e+04,  -6.32767067e+01,  -1.85302234e+03,\n",
       "           6.74761250e+04]], dtype=float32),\n",
       " 'loss': array([[ 0.,  0.,  0.,  0.,  0.,  1.,  0.,  0.,  0.,  0.]], dtype=float32)}"
      ]
     },
     "execution_count": 8,
     "metadata": {},
     "output_type": "execute_result"
    }
   ],
   "source": [
    "net.forward(blobs=['ip2'])"
   ]
  }
 ],
 "metadata": {
  "kernelspec": {
   "display_name": "Python 2",
   "language": "python",
   "name": "python2"
  },
  "language_info": {
   "codemirror_mode": {
    "name": "ipython",
    "version": 2
   },
   "file_extension": ".py",
   "mimetype": "text/x-python",
   "name": "python",
   "nbconvert_exporter": "python",
   "pygments_lexer": "ipython2",
   "version": "2.7.6"
  }
 },
 "nbformat": 4,
 "nbformat_minor": 0
}
