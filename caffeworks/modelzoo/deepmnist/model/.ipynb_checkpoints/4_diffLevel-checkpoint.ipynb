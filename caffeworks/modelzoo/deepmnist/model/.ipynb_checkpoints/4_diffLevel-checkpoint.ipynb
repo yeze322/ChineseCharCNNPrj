{
 "cells": [
  {
   "cell_type": "code",
   "execution_count": 5,
   "metadata": {
    "collapsed": true
   },
   "outputs": [],
   "source": [
    "%matplotlib inline\n",
    "# You need to have caffe installed with python support, and the BVLC reference models\n",
    "# downloadad.  Please refer to the caffe website/codebase for instructions.\n",
    "import caffe\n",
    "import progressbar\n",
    "import numpy as np\n",
    "from matplotlib import pyplot as plt\n",
    "from matplotlib import image as pmg\n",
    "caffe.set_mode_gpu()"
   ]
  },
  {
   "cell_type": "code",
   "execution_count": 6,
   "metadata": {
    "collapsed": false
   },
   "outputs": [],
   "source": [
    "def transformCurrent(current, means):\n",
    "    image = (current + means).transpose(1,2,0)[:,:,0]\n",
    "    image = image - image.min()\n",
    "    image = image/image.max()\n",
    "    return image\n",
    "def oneLoop(net, endPara, endL, initpic=None, IT=300, rate_obj=1000, rate_smooth=0, means=0.3, a=1, b=0.5):\n",
    "    if initpic == None:\n",
    "        current = np.random.rand(1,28,28)\n",
    "    else:\n",
    "        current = initpic\n",
    "        print 'with init'\n",
    "    current = current*255 - means\n",
    "    act_hist = []\n",
    "    prg = progressbar.ProgressBar(max_value=IT).start()\n",
    "    plt.rcParams['figure.figsize'] = (20,20)\n",
    "    fg = plt.figure()\n",
    "    for it in range(IT):\n",
    "        # do a forward pass for the current version of the image\n",
    "        # and collect the target activation to visualize later\n",
    "        net.blobs['data'].data[...] = current\n",
    "        act_hist.append(net.forward(end=endL)[endL].flat[target_label])\n",
    "        # set the topmost diff and do a backward pass back to the image\n",
    "        # can also try: `np.arange(1000)==target_label`\n",
    "        net.blobs[endL].diff[...].flat = a*(np.arange(10)==target_label)-b\n",
    "        diff = net.backward(start=endL)['data']\n",
    "        # compute smoothness regularization\n",
    "        x_diff = np.zeros_like(current)\n",
    "        y_diff = np.zeros_like(current)\n",
    "        if np.random.rand() > 0.5:\n",
    "            y_diff[:,1:,:] = (current[:,1:,:] - current[:,:-1,:])\n",
    "            x_diff[:,:,1:] = (current[:,:,1:] - current[:,:,:-1])\n",
    "        else:\n",
    "            y_diff[:,:-1,:] = (-current[:,1:,:] + current[:,:-1,:])\n",
    "            x_diff[:,:,:-1] = (-current[:,:,1:] + current[:,:,:-1])\n",
    "        # gradient descent step\n",
    "        current = current + rate_obj*diff[0] - rate_smooth*x_diff - rate_smooth*y_diff\n",
    "        if it > 0 and it%100 == 0:\n",
    "            #print 'iteration {}'.format(it)\n",
    "            prg.update(it)\n",
    "            sb = fg.add_subplot(10,10,it/100)\n",
    "            sb.imshow(transformCurrent(current, means), cmap='gray')\n",
    "            sb.set_title('it='+str(it))\n",
    "    plt.show()\n",
    "    plt.rcParams['figure.figsize'] = (14,3)\n",
    "    axs = plt.subplot(1,2,1)\n",
    "    axs.plot(act_hist)\n",
    "    axs.set_title('activation')\n",
    "    axs = plt.subplot(1,2,2)\n",
    "    axs.plot(net.forward(end='loss')['loss'].flat)\n",
    "    axs.set_title('prediction')\n",
    "    plt.show()\n",
    "    return transformCurrent(current, means)"
   ]
  },
  {
   "cell_type": "code",
   "execution_count": null,
   "metadata": {
    "collapsed": true
   },
   "outputs": [],
   "source": []
  }
 ],
 "metadata": {
  "kernelspec": {
   "display_name": "Python 2",
   "language": "python",
   "name": "python2"
  },
  "language_info": {
   "codemirror_mode": {
    "name": "ipython",
    "version": 2
   },
   "file_extension": ".py",
   "mimetype": "text/x-python",
   "name": "python",
   "nbconvert_exporter": "python",
   "pygments_lexer": "ipython2",
   "version": "2.7.6"
  }
 },
 "nbformat": 4,
 "nbformat_minor": 0
}
